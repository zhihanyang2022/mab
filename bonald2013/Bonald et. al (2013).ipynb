{
 "cells": [
  {
   "cell_type": "code",
   "execution_count": 64,
   "metadata": {
    "ExecuteTime": {
     "end_time": "2020-04-16T02:00:33.693947Z",
     "start_time": "2020-04-16T02:00:33.672437Z"
    }
   },
   "outputs": [],
   "source": [
    "from functools import partial\n",
    "import numpy as np\n",
    "from scipy.stats import bernoulli\n",
    "import matplotlib.pyplot as plt\n",
    "\n",
    "from tqdm import tqdm_notebook"
   ]
  },
  {
   "cell_type": "code",
   "execution_count": 153,
   "metadata": {
    "ExecuteTime": {
     "end_time": "2020-04-16T02:20:15.509692Z",
     "start_time": "2020-04-16T02:20:15.503623Z"
    }
   },
   "outputs": [],
   "source": [
    "num_arms = 10000\n",
    "np.random.seed(42)\n",
    "means = np.random.uniform(low=0.0, high=1.0, size=num_arms)"
   ]
  },
  {
   "cell_type": "code",
   "execution_count": 154,
   "metadata": {
    "ExecuteTime": {
     "end_time": "2020-04-16T02:20:15.708152Z",
     "start_time": "2020-04-16T02:20:15.701037Z"
    }
   },
   "outputs": [],
   "source": [
    "class BernoulliArm:\n",
    "    \n",
    "    def __init__(self, p):\n",
    "        self.rv = partial(bernoulli.rvs, p=p, loc=0)\n",
    "        \n",
    "    def pull(self):\n",
    "        # at any time t, if the current arm is pulled, only one reward is observed, hence size=1\n",
    "        return float(self.rv(size=1))"
   ]
  },
  {
   "cell_type": "markdown",
   "metadata": {},
   "source": [
    "## Test BernoulliRV"
   ]
  },
  {
   "cell_type": "code",
   "execution_count": 155,
   "metadata": {
    "ExecuteTime": {
     "end_time": "2020-04-16T02:20:16.033714Z",
     "start_time": "2020-04-16T02:20:16.027251Z"
    }
   },
   "outputs": [],
   "source": [
    "arm = BernoulliArm(p=0.1)"
   ]
  },
  {
   "cell_type": "code",
   "execution_count": 156,
   "metadata": {
    "ExecuteTime": {
     "end_time": "2020-04-16T02:20:16.172171Z",
     "start_time": "2020-04-16T02:20:16.163729Z"
    }
   },
   "outputs": [
    {
     "data": {
      "text/plain": [
       "0.0"
      ]
     },
     "execution_count": 156,
     "metadata": {},
     "output_type": "execute_result"
    }
   ],
   "source": [
    "arm.pull()"
   ]
  },
  {
   "cell_type": "code",
   "execution_count": 157,
   "metadata": {
    "ExecuteTime": {
     "end_time": "2020-04-16T02:20:16.342187Z",
     "start_time": "2020-04-16T02:20:16.326374Z"
    }
   },
   "outputs": [],
   "source": [
    "rewards = []\n",
    "for i in range(100):\n",
    "    rewards.append(arm.pull())"
   ]
  },
  {
   "cell_type": "code",
   "execution_count": 158,
   "metadata": {
    "ExecuteTime": {
     "end_time": "2020-04-16T02:20:16.628534Z",
     "start_time": "2020-04-16T02:20:16.469953Z"
    }
   },
   "outputs": [
    {
     "data": {
      "text/plain": [
       "(array([89.,  0.,  0.,  0.,  0.,  0.,  0.,  0.,  0., 11.]),\n",
       " array([0. , 0.1, 0.2, 0.3, 0.4, 0.5, 0.6, 0.7, 0.8, 0.9, 1. ]),\n",
       " <a list of 10 Patch objects>)"
      ]
     },
     "execution_count": 158,
     "metadata": {},
     "output_type": "execute_result"
    },
    {
     "data": {
      "image/png": "[encoded data removed]",
      "text/plain": [
       "<Figure size 432x288 with 1 Axes>"
      ]
     },
     "metadata": {
      "needs_background": "light"
     },
     "output_type": "display_data"
    }
   ],
   "source": [
    "plt.hist(rewards)"
   ]
  },
  {
   "cell_type": "markdown",
   "metadata": {},
   "source": [
    "## Generate arms"
   ]
  },
  {
   "cell_type": "code",
   "execution_count": 159,
   "metadata": {
    "ExecuteTime": {
     "end_time": "2020-04-16T02:20:17.296120Z",
     "start_time": "2020-04-16T02:20:17.176277Z"
    }
   },
   "outputs": [
    {
     "data": {
      "image/png": "[encoded data removed]",
      "text/plain": [
       "<Figure size 432x288 with 1 Axes>"
      ]
     },
     "metadata": {
      "needs_background": "light"
     },
     "output_type": "display_data"
    }
   ],
   "source": [
    "plt.hist(means)\n",
    "plt.show()"
   ]
  },
  {
   "cell_type": "code",
   "execution_count": 160,
   "metadata": {
    "ExecuteTime": {
     "end_time": "2020-04-16T02:20:17.566959Z",
     "start_time": "2020-04-16T02:20:17.411878Z"
    }
   },
   "outputs": [
    {
     "name": "stdout",
     "output_type": "stream",
     "text": [
      "0.9997176732861306\n"
     ]
    }
   ],
   "source": [
    "arms = [BernoulliArm(p=p) for p in means]\n",
    "max_reward = np.max(means)\n",
    "print(max_reward)"
   ]
  },
  {
   "cell_type": "markdown",
   "metadata": {},
   "source": [
    "## Two-target algorithm for known time horizon"
   ]
  },
  {
   "cell_type": "code",
   "execution_count": 200,
   "metadata": {
    "ExecuteTime": {
     "end_time": "2020-04-16T02:22:32.819021Z",
     "start_time": "2020-04-16T02:22:32.799998Z"
    }
   },
   "outputs": [],
   "source": [
    "m = 5  # for each arm, the number of additional runs to make if the first one fails\n",
    "n = 10 ** 5"
   ]
  },
  {
   "cell_type": "code",
   "execution_count": 201,
   "metadata": {
    "ExecuteTime": {
     "end_time": "2020-04-16T02:22:33.022431Z",
     "start_time": "2020-04-16T02:22:33.017452Z"
    }
   },
   "outputs": [
    {
     "name": "stdout",
     "output_type": "stream",
     "text": [
      "36.84031498640386 1118.033988749895\n"
     ]
    }
   ],
   "source": [
    "l1 = (n / 2) ** (1 / 3)\n",
    "l2 = m * (n / 2) ** (1 / 2)\n",
    "print(l1, l2)"
   ]
  },
  {
   "cell_type": "code",
   "execution_count": 202,
   "metadata": {
    "ExecuteTime": {
     "end_time": "2020-04-16T02:22:39.756297Z",
     "start_time": "2020-04-16T02:22:33.200815Z"
    }
   },
   "outputs": [
    {
     "data": {
      "application/vnd.jupyter.widget-view+json": {
       "model_id": "62f41e8d61e24dd9808eebffec3d94a3",
       "version_major": 2,
       "version_minor": 0
      },
      "text/plain": [
       "HBox(children=(IntProgress(value=0, max=100000), HTML(value='')))"
      ]
     },
     "metadata": {},
     "output_type": "display_data"
    },
    {
     "name": "stdout",
     "output_type": "stream",
     "text": [
      "\n"
     ]
    }
   ],
   "source": [
    "I = 0\n",
    "L = 0  # the length of the current run\n",
    "M = 0\n",
    "EXPLOIT = False\n",
    "\n",
    "cumulative_reward = 0\n",
    "cumulative_rewards = []\n",
    "timesteps = np.arange(n)\n",
    "\n",
    "for t in tqdm_notebook(timesteps):\n",
    "    \n",
    "    X = arms[I].pull()\n",
    "    \n",
    "    regret = 1 - X\n",
    "    cumulative_reward += regret\n",
    "    cumulative_rewards.append(cumulative_reward)\n",
    "    \n",
    "    if not EXPLOIT:\n",
    "        if X == 1:\n",
    "            L = L + 1\n",
    "        else:\n",
    "            M = M + 1  # increment the number of failed runs\n",
    "            if M == 1:  # after the first failed run\n",
    "                if L < l1:\n",
    "                   I = I + 1  # next arm \n",
    "                   L = 0\n",
    "                   M = 0\n",
    "            elif M == m:\n",
    "                if L < l2:\n",
    "                    I = I + 1\n",
    "                    L = 0\n",
    "                    M = 0\n",
    "                else:\n",
    "                    EXPLOIT = True"
   ]
  },
  {
   "cell_type": "code",
   "execution_count": 203,
   "metadata": {
    "ExecuteTime": {
     "end_time": "2020-04-16T02:22:40.336071Z",
     "start_time": "2020-04-16T02:22:40.179551Z"
    }
   },
   "outputs": [
    {
     "data": {
      "image/png": "[encoded data removed]",
      "text/plain": [
       "<Figure size 432x288 with 1 Axes>"
      ]
     },
     "metadata": {
      "needs_background": "light"
     },
     "output_type": "display_data"
    }
   ],
   "source": [
    "plt.plot(cumulative_rewards)\n",
    "plt.plot(timesteps, np.sqrt(2 * timesteps), label='Expected regret')\n",
    "plt.show()"
   ]
  },
  {
   "cell_type": "markdown",
   "metadata": {},
   "source": [
    "Questions:\n",
    "- is it O(sqrt(2n)) or just sqrt(2n)"
   ]
  },
  {
   "cell_type": "code",
   "execution_count": null,
   "metadata": {},
   "outputs": [],
   "source": []
  },
  {
   "cell_type": "code",
   "execution_count": null,
   "metadata": {},
   "outputs": [],
   "source": []
  },
  {
   "cell_type": "code",
   "execution_count": null,
   "metadata": {},
   "outputs": [],
   "source": []
  },
  {
   "cell_type": "code",
   "execution_count": null,
   "metadata": {},
   "outputs": [],
   "source": []
  },
  {
   "cell_type": "code",
   "execution_count": null,
   "metadata": {},
   "outputs": [],
   "source": []
  },
  {
   "cell_type": "code",
   "execution_count": null,
   "metadata": {},
   "outputs": [],
   "source": []
  },
  {
   "cell_type": "code",
   "execution_count": null,
   "metadata": {},
   "outputs": [],
   "source": []
  },
  {
   "cell_type": "code",
   "execution_count": null,
   "metadata": {},
   "outputs": [],
   "source": []
  },
  {
   "cell_type": "code",
   "execution_count": null,
   "metadata": {},
   "outputs": [],
   "source": []
  },
  {
   "cell_type": "code",
   "execution_count": null,
   "metadata": {},
   "outputs": [],
   "source": []
  },
  {
   "cell_type": "code",
   "execution_count": null,
   "metadata": {},
   "outputs": [],
   "source": []
  }
 ],
 "metadata": {
  "kernelspec": {
   "display_name": "Python 3",
   "language": "python",
   "name": "python3"
  },
  "language_info": {
   "codemirror_mode": {
    "name": "ipython",
    "version": 3
   },
   "file_extension": ".py",
   "mimetype": "text/x-python",
   "name": "python",
   "nbconvert_exporter": "python",
   "pygments_lexer": "ipython3",
   "version": "3.6.9"
  },
  "toc": {
   "base_numbering": 1,
   "nav_menu": {},
   "number_sections": true,
   "sideBar": true,
   "skip_h1_title": false,
   "title_cell": "Table of Contents",
   "title_sidebar": "Contents",
   "toc_cell": false,
   "toc_position": {},
   "toc_section_display": true,
   "toc_window_display": false
  }
 },
 "nbformat": 4,
 "nbformat_minor": 2
}
